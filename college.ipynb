{
 "cells": [
  {
   "cell_type": "code",
   "execution_count": 1,
   "id": "8e47fc57-fcf6-4e07-8155-f6e068e6fd81",
   "metadata": {},
   "outputs": [],
   "source": [
    "#importing essential libraries\n",
    "import numpy as np\n",
    "import pandas as pd\n",
    "\n",
    "import matplotlib.pyplot as plt\n",
    "import seaborn as sns"
   ]
  },
  {
   "cell_type": "code",
   "execution_count": 2,
   "id": "9583b0d3-7c50-4bd7-b0e0-d05f44705fd6",
   "metadata": {},
   "outputs": [],
   "source": [
    "# Loading dataset\n",
    "data = pd.read_csv('./data/colleges.csv')"
   ]
  },
  {
   "cell_type": "code",
   "execution_count": 3,
   "id": "9a750375-a2ba-4228-9993-763fdb8c8ca9",
   "metadata": {},
   "outputs": [
    {
     "data": {
      "text/html": [
       "<div>\n",
       "<style scoped>\n",
       "    .dataframe tbody tr th:only-of-type {\n",
       "        vertical-align: middle;\n",
       "    }\n",
       "\n",
       "    .dataframe tbody tr th {\n",
       "        vertical-align: top;\n",
       "    }\n",
       "\n",
       "    .dataframe thead th {\n",
       "        text-align: right;\n",
       "    }\n",
       "</style>\n",
       "<table border=\"1\" class=\"dataframe\">\n",
       "  <thead>\n",
       "    <tr style=\"text-align: right;\">\n",
       "      <th></th>\n",
       "      <th>Unnamed: 0</th>\n",
       "      <th>College</th>\n",
       "      <th>Location</th>\n",
       "      <th>University</th>\n",
       "      <th>Course Offered</th>\n",
       "      <th>Ownership Type</th>\n",
       "      <th>Phone Number</th>\n",
       "      <th>Email</th>\n",
       "    </tr>\n",
       "  </thead>\n",
       "  <tbody>\n",
       "    <tr>\n",
       "      <th>0</th>\n",
       "      <td>0</td>\n",
       "      <td>Thames International College</td>\n",
       "      <td>Surya Bikram Gyawali Marg, Old Baneshwor, Kath...</td>\n",
       "      <td>Tribhuvan University</td>\n",
       "      <td>Bachelor of Business Administration\\n        (...</td>\n",
       "      <td>private Institution</td>\n",
       "      <td>01-4464584, 01-4465660</td>\n",
       "      <td>admissions@thamescollege.edu.np</td>\n",
       "    </tr>\n",
       "    <tr>\n",
       "      <th>1</th>\n",
       "      <td>1</td>\n",
       "      <td>Texas International College</td>\n",
       "      <td>Mitrapark, Chabhil, Kathmandu</td>\n",
       "      <td>Tribhuvan University</td>\n",
       "      <td>BSc Computer Science and Information Technolog...</td>\n",
       "      <td>private Institution</td>\n",
       "      <td>01-4579017, 01-4490670, 01-4488627</td>\n",
       "      <td>enquiry@texasintl.edu.np</td>\n",
       "    </tr>\n",
       "    <tr>\n",
       "      <th>2</th>\n",
       "      <td>2</td>\n",
       "      <td>King's College</td>\n",
       "      <td>Babar Mahal, Kathmandu</td>\n",
       "      <td>Westcliff University, CA, USA</td>\n",
       "      <td>Bachelor in Business Administration\\n        (...</td>\n",
       "      <td>private Institution</td>\n",
       "      <td>01-5325909 , 01-5324520 , 015324574</td>\n",
       "      <td>admissions@kingscollege.edu.np</td>\n",
       "    </tr>\n",
       "    <tr>\n",
       "      <th>3</th>\n",
       "      <td>3</td>\n",
       "      <td>Padmashree College</td>\n",
       "      <td>Tinkune, Kathmandu</td>\n",
       "      <td>Tribhuvan University</td>\n",
       "      <td>Bachelor of Information Technology\\n        (B...</td>\n",
       "      <td>private Institution</td>\n",
       "      <td>01-4112252 , 01-4112403</td>\n",
       "      <td>padmashreecollege@gmail.com</td>\n",
       "    </tr>\n",
       "    <tr>\n",
       "      <th>4</th>\n",
       "      <td>4</td>\n",
       "      <td>Janamaitri Multiple Campus</td>\n",
       "      <td>Kuleshwor, Kathmandu</td>\n",
       "      <td>National Examinations Board</td>\n",
       "      <td>Ten Plus Two (+2) Management\\n        (+2 Mang...</td>\n",
       "      <td>community Institution</td>\n",
       "      <td>015377202</td>\n",
       "      <td>info@janamaitri.edu.np</td>\n",
       "    </tr>\n",
       "  </tbody>\n",
       "</table>\n",
       "</div>"
      ],
      "text/plain": [
       "   Unnamed: 0                       College   \n",
       "0           0  Thames International College  \\\n",
       "1           1   Texas International College   \n",
       "2           2                King's College   \n",
       "3           3            Padmashree College   \n",
       "4           4    Janamaitri Multiple Campus   \n",
       "\n",
       "                                            Location   \n",
       "0  Surya Bikram Gyawali Marg, Old Baneshwor, Kath...  \\\n",
       "1                      Mitrapark, Chabhil, Kathmandu   \n",
       "2                             Babar Mahal, Kathmandu   \n",
       "3                                 Tinkune, Kathmandu   \n",
       "4                               Kuleshwor, Kathmandu   \n",
       "\n",
       "                      University   \n",
       "0           Tribhuvan University  \\\n",
       "1           Tribhuvan University   \n",
       "2  Westcliff University, CA, USA   \n",
       "3           Tribhuvan University   \n",
       "4    National Examinations Board   \n",
       "\n",
       "                                      Course Offered         Ownership Type   \n",
       "0  Bachelor of Business Administration\\n        (...    private Institution  \\\n",
       "1  BSc Computer Science and Information Technolog...    private Institution   \n",
       "2  Bachelor in Business Administration\\n        (...    private Institution   \n",
       "3  Bachelor of Information Technology\\n        (B...    private Institution   \n",
       "4  Ten Plus Two (+2) Management\\n        (+2 Mang...  community Institution   \n",
       "\n",
       "                          Phone Number                            Email  \n",
       "0               01-4464584, 01-4465660  admissions@thamescollege.edu.np  \n",
       "1   01-4579017, 01-4490670, 01-4488627         enquiry@texasintl.edu.np  \n",
       "2  01-5325909 , 01-5324520 , 015324574   admissions@kingscollege.edu.np  \n",
       "3              01-4112252 , 01-4112403      padmashreecollege@gmail.com  \n",
       "4                            015377202           info@janamaitri.edu.np  "
      ]
     },
     "execution_count": 3,
     "metadata": {},
     "output_type": "execute_result"
    }
   ],
   "source": [
    "data.head()"
   ]
  },
  {
   "cell_type": "code",
   "execution_count": 4,
   "id": "f590f7b5-fa2e-4215-8893-f9ba0eed6680",
   "metadata": {},
   "outputs": [],
   "source": [
    "# Droping unnamed column\n",
    "data=data.drop(data.columns[0], axis=1)"
   ]
  },
  {
   "cell_type": "code",
   "execution_count": 5,
   "id": "23550ba0-006b-442c-95a1-ab3f7a740d5d",
   "metadata": {},
   "outputs": [
    {
     "data": {
      "text/html": [
       "<div>\n",
       "<style scoped>\n",
       "    .dataframe tbody tr th:only-of-type {\n",
       "        vertical-align: middle;\n",
       "    }\n",
       "\n",
       "    .dataframe tbody tr th {\n",
       "        vertical-align: top;\n",
       "    }\n",
       "\n",
       "    .dataframe thead th {\n",
       "        text-align: right;\n",
       "    }\n",
       "</style>\n",
       "<table border=\"1\" class=\"dataframe\">\n",
       "  <thead>\n",
       "    <tr style=\"text-align: right;\">\n",
       "      <th></th>\n",
       "      <th>College</th>\n",
       "      <th>Location</th>\n",
       "      <th>University</th>\n",
       "      <th>Course Offered</th>\n",
       "      <th>Ownership Type</th>\n",
       "      <th>Phone Number</th>\n",
       "      <th>Email</th>\n",
       "    </tr>\n",
       "  </thead>\n",
       "  <tbody>\n",
       "    <tr>\n",
       "      <th>0</th>\n",
       "      <td>Thames International College</td>\n",
       "      <td>Surya Bikram Gyawali Marg, Old Baneshwor, Kath...</td>\n",
       "      <td>Tribhuvan University</td>\n",
       "      <td>Bachelor of Business Administration\\n        (...</td>\n",
       "      <td>private Institution</td>\n",
       "      <td>01-4464584, 01-4465660</td>\n",
       "      <td>admissions@thamescollege.edu.np</td>\n",
       "    </tr>\n",
       "    <tr>\n",
       "      <th>1</th>\n",
       "      <td>Texas International College</td>\n",
       "      <td>Mitrapark, Chabhil, Kathmandu</td>\n",
       "      <td>Tribhuvan University</td>\n",
       "      <td>BSc Computer Science and Information Technolog...</td>\n",
       "      <td>private Institution</td>\n",
       "      <td>01-4579017, 01-4490670, 01-4488627</td>\n",
       "      <td>enquiry@texasintl.edu.np</td>\n",
       "    </tr>\n",
       "    <tr>\n",
       "      <th>2</th>\n",
       "      <td>King's College</td>\n",
       "      <td>Babar Mahal, Kathmandu</td>\n",
       "      <td>Westcliff University, CA, USA</td>\n",
       "      <td>Bachelor in Business Administration\\n        (...</td>\n",
       "      <td>private Institution</td>\n",
       "      <td>01-5325909 , 01-5324520 , 015324574</td>\n",
       "      <td>admissions@kingscollege.edu.np</td>\n",
       "    </tr>\n",
       "    <tr>\n",
       "      <th>3</th>\n",
       "      <td>Padmashree College</td>\n",
       "      <td>Tinkune, Kathmandu</td>\n",
       "      <td>Tribhuvan University</td>\n",
       "      <td>Bachelor of Information Technology\\n        (B...</td>\n",
       "      <td>private Institution</td>\n",
       "      <td>01-4112252 , 01-4112403</td>\n",
       "      <td>padmashreecollege@gmail.com</td>\n",
       "    </tr>\n",
       "    <tr>\n",
       "      <th>4</th>\n",
       "      <td>Janamaitri Multiple Campus</td>\n",
       "      <td>Kuleshwor, Kathmandu</td>\n",
       "      <td>National Examinations Board</td>\n",
       "      <td>Ten Plus Two (+2) Management\\n        (+2 Mang...</td>\n",
       "      <td>community Institution</td>\n",
       "      <td>015377202</td>\n",
       "      <td>info@janamaitri.edu.np</td>\n",
       "    </tr>\n",
       "  </tbody>\n",
       "</table>\n",
       "</div>"
      ],
      "text/plain": [
       "                        College   \n",
       "0  Thames International College  \\\n",
       "1   Texas International College   \n",
       "2                King's College   \n",
       "3            Padmashree College   \n",
       "4    Janamaitri Multiple Campus   \n",
       "\n",
       "                                            Location   \n",
       "0  Surya Bikram Gyawali Marg, Old Baneshwor, Kath...  \\\n",
       "1                      Mitrapark, Chabhil, Kathmandu   \n",
       "2                             Babar Mahal, Kathmandu   \n",
       "3                                 Tinkune, Kathmandu   \n",
       "4                               Kuleshwor, Kathmandu   \n",
       "\n",
       "                      University   \n",
       "0           Tribhuvan University  \\\n",
       "1           Tribhuvan University   \n",
       "2  Westcliff University, CA, USA   \n",
       "3           Tribhuvan University   \n",
       "4    National Examinations Board   \n",
       "\n",
       "                                      Course Offered         Ownership Type   \n",
       "0  Bachelor of Business Administration\\n        (...    private Institution  \\\n",
       "1  BSc Computer Science and Information Technolog...    private Institution   \n",
       "2  Bachelor in Business Administration\\n        (...    private Institution   \n",
       "3  Bachelor of Information Technology\\n        (B...    private Institution   \n",
       "4  Ten Plus Two (+2) Management\\n        (+2 Mang...  community Institution   \n",
       "\n",
       "                          Phone Number                            Email  \n",
       "0               01-4464584, 01-4465660  admissions@thamescollege.edu.np  \n",
       "1   01-4579017, 01-4490670, 01-4488627         enquiry@texasintl.edu.np  \n",
       "2  01-5325909 , 01-5324520 , 015324574   admissions@kingscollege.edu.np  \n",
       "3              01-4112252 , 01-4112403      padmashreecollege@gmail.com  \n",
       "4                            015377202           info@janamaitri.edu.np  "
      ]
     },
     "execution_count": 5,
     "metadata": {},
     "output_type": "execute_result"
    }
   ],
   "source": [
    "#Diplaying fisrt 5 rows\n",
    "data.head()"
   ]
  },
  {
   "cell_type": "code",
   "execution_count": 6,
   "id": "20c995b8-a0ef-4fe2-a39c-43ce72c92861",
   "metadata": {},
   "outputs": [
    {
     "data": {
      "text/plain": [
       "(1377, 7)"
      ]
     },
     "execution_count": 6,
     "metadata": {},
     "output_type": "execute_result"
    }
   ],
   "source": [
    "# Displaying number of rows and columns\n",
    "data.shape"
   ]
  },
  {
   "cell_type": "code",
   "execution_count": 7,
   "id": "68f12ceb-8b98-480e-aa2d-575cac2a0df3",
   "metadata": {},
   "outputs": [
    {
     "name": "stdout",
     "output_type": "stream",
     "text": [
      "<class 'pandas.core.frame.DataFrame'>\n",
      "RangeIndex: 1377 entries, 0 to 1376\n",
      "Data columns (total 7 columns):\n",
      " #   Column          Non-Null Count  Dtype \n",
      "---  ------          --------------  ----- \n",
      " 0   College         1377 non-null   object\n",
      " 1   Location        1375 non-null   object\n",
      " 2   University      1357 non-null   object\n",
      " 3   Course Offered  1377 non-null   object\n",
      " 4   Ownership Type  1342 non-null   object\n",
      " 5   Phone Number    635 non-null    object\n",
      " 6   Email           376 non-null    object\n",
      "dtypes: object(7)\n",
      "memory usage: 75.4+ KB\n"
     ]
    }
   ],
   "source": [
    "data.info()"
   ]
  },
  {
   "cell_type": "code",
   "execution_count": 8,
   "id": "7be4a902-7a79-4576-ba52-e12ed7845c03",
   "metadata": {},
   "outputs": [
    {
     "data": {
      "text/plain": [
       "1800"
      ]
     },
     "execution_count": 8,
     "metadata": {},
     "output_type": "execute_result"
    }
   ],
   "source": [
    "# Checking for null values\n",
    "data.isnull().sum().sum()"
   ]
  },
  {
   "cell_type": "code",
   "execution_count": 9,
   "id": "a1482267-de40-4237-8e9d-ab79dec86926",
   "metadata": {},
   "outputs": [
    {
     "data": {
      "text/html": [
       "<div>\n",
       "<style scoped>\n",
       "    .dataframe tbody tr th:only-of-type {\n",
       "        vertical-align: middle;\n",
       "    }\n",
       "\n",
       "    .dataframe tbody tr th {\n",
       "        vertical-align: top;\n",
       "    }\n",
       "\n",
       "    .dataframe thead th {\n",
       "        text-align: right;\n",
       "    }\n",
       "</style>\n",
       "<table border=\"1\" class=\"dataframe\">\n",
       "  <thead>\n",
       "    <tr style=\"text-align: right;\">\n",
       "      <th></th>\n",
       "      <th>College</th>\n",
       "      <th>Location</th>\n",
       "      <th>University</th>\n",
       "      <th>Course Offered</th>\n",
       "      <th>Ownership Type</th>\n",
       "      <th>Phone Number</th>\n",
       "      <th>Email</th>\n",
       "    </tr>\n",
       "  </thead>\n",
       "  <tbody>\n",
       "    <tr>\n",
       "      <th>count</th>\n",
       "      <td>1377</td>\n",
       "      <td>1375</td>\n",
       "      <td>1357</td>\n",
       "      <td>1377</td>\n",
       "      <td>1342</td>\n",
       "      <td>635</td>\n",
       "      <td>376</td>\n",
       "    </tr>\n",
       "    <tr>\n",
       "      <th>unique</th>\n",
       "      <td>1310</td>\n",
       "      <td>977</td>\n",
       "      <td>42</td>\n",
       "      <td>702</td>\n",
       "      <td>4</td>\n",
       "      <td>602</td>\n",
       "      <td>353</td>\n",
       "    </tr>\n",
       "    <tr>\n",
       "      <th>top</th>\n",
       "      <td>Suprabhat College</td>\n",
       "      <td>Kirtipur, Kathmandu</td>\n",
       "      <td>Tribhuvan University</td>\n",
       "      <td>Bachelor of Education\\n        (BEd)</td>\n",
       "      <td>private Institution</td>\n",
       "      <td>087-520115,  087- 520355</td>\n",
       "      <td>suprabhatcollege@gmail.com</td>\n",
       "    </tr>\n",
       "    <tr>\n",
       "      <th>freq</th>\n",
       "      <td>5</td>\n",
       "      <td>42</td>\n",
       "      <td>847</td>\n",
       "      <td>128</td>\n",
       "      <td>557</td>\n",
       "      <td>5</td>\n",
       "      <td>5</td>\n",
       "    </tr>\n",
       "  </tbody>\n",
       "</table>\n",
       "</div>"
      ],
      "text/plain": [
       "                  College             Location            University   \n",
       "count                1377                 1375                  1357  \\\n",
       "unique               1310                  977                    42   \n",
       "top     Suprabhat College  Kirtipur, Kathmandu  Tribhuvan University   \n",
       "freq                    5                   42                   847   \n",
       "\n",
       "                              Course Offered       Ownership Type   \n",
       "count                                   1377                 1342  \\\n",
       "unique                                   702                    4   \n",
       "top     Bachelor of Education\\n        (BEd)  private Institution   \n",
       "freq                                     128                  557   \n",
       "\n",
       "                    Phone Number                       Email  \n",
       "count                        635                         376  \n",
       "unique                       602                         353  \n",
       "top     087-520115,  087- 520355  suprabhatcollege@gmail.com  \n",
       "freq                           5                           5  "
      ]
     },
     "execution_count": 9,
     "metadata": {},
     "output_type": "execute_result"
    }
   ],
   "source": [
    "data.describe()"
   ]
  },
  {
   "cell_type": "code",
   "execution_count": 10,
   "id": "e569bf13-8449-4b23-90ad-3977560cb47c",
   "metadata": {},
   "outputs": [
    {
     "data": {
      "text/html": [
       "<div>\n",
       "<style scoped>\n",
       "    .dataframe tbody tr th:only-of-type {\n",
       "        vertical-align: middle;\n",
       "    }\n",
       "\n",
       "    .dataframe tbody tr th {\n",
       "        vertical-align: top;\n",
       "    }\n",
       "\n",
       "    .dataframe thead th {\n",
       "        text-align: right;\n",
       "    }\n",
       "</style>\n",
       "<table border=\"1\" class=\"dataframe\">\n",
       "  <thead>\n",
       "    <tr style=\"text-align: right;\">\n",
       "      <th></th>\n",
       "      <th>College</th>\n",
       "      <th>Location</th>\n",
       "      <th>University</th>\n",
       "      <th>Course Offered</th>\n",
       "      <th>Ownership Type</th>\n",
       "      <th>Phone Number</th>\n",
       "      <th>Email</th>\n",
       "    </tr>\n",
       "  </thead>\n",
       "  <tbody>\n",
       "    <tr>\n",
       "      <th>0</th>\n",
       "      <td>Thames International College</td>\n",
       "      <td>Surya Bikram Gyawali Marg, Old Baneshwor, Kath...</td>\n",
       "      <td>Tribhuvan University</td>\n",
       "      <td>Bachelor of Business Administration\\n        (...</td>\n",
       "      <td>private Institution</td>\n",
       "      <td>01-4464584, 01-4465660</td>\n",
       "      <td>admissions@thamescollege.edu.np</td>\n",
       "    </tr>\n",
       "    <tr>\n",
       "      <th>1</th>\n",
       "      <td>Texas International College</td>\n",
       "      <td>Mitrapark, Chabhil, Kathmandu</td>\n",
       "      <td>Tribhuvan University</td>\n",
       "      <td>BSc Computer Science and Information Technolog...</td>\n",
       "      <td>private Institution</td>\n",
       "      <td>01-4579017, 01-4490670, 01-4488627</td>\n",
       "      <td>enquiry@texasintl.edu.np</td>\n",
       "    </tr>\n",
       "    <tr>\n",
       "      <th>2</th>\n",
       "      <td>King's College</td>\n",
       "      <td>Babar Mahal, Kathmandu</td>\n",
       "      <td>Westcliff University, CA, USA</td>\n",
       "      <td>Bachelor in Business Administration\\n        (...</td>\n",
       "      <td>private Institution</td>\n",
       "      <td>01-5325909 , 01-5324520 , 015324574</td>\n",
       "      <td>admissions@kingscollege.edu.np</td>\n",
       "    </tr>\n",
       "    <tr>\n",
       "      <th>3</th>\n",
       "      <td>Padmashree College</td>\n",
       "      <td>Tinkune, Kathmandu</td>\n",
       "      <td>Tribhuvan University</td>\n",
       "      <td>Bachelor of Information Technology\\n        (B...</td>\n",
       "      <td>private Institution</td>\n",
       "      <td>01-4112252 , 01-4112403</td>\n",
       "      <td>padmashreecollege@gmail.com</td>\n",
       "    </tr>\n",
       "    <tr>\n",
       "      <th>4</th>\n",
       "      <td>Janamaitri Multiple Campus</td>\n",
       "      <td>Kuleshwor, Kathmandu</td>\n",
       "      <td>National Examinations Board</td>\n",
       "      <td>Ten Plus Two (+2) Management\\n        (+2 Mang...</td>\n",
       "      <td>community Institution</td>\n",
       "      <td>015377202</td>\n",
       "      <td>info@janamaitri.edu.np</td>\n",
       "    </tr>\n",
       "  </tbody>\n",
       "</table>\n",
       "</div>"
      ],
      "text/plain": [
       "                        College   \n",
       "0  Thames International College  \\\n",
       "1   Texas International College   \n",
       "2                King's College   \n",
       "3            Padmashree College   \n",
       "4    Janamaitri Multiple Campus   \n",
       "\n",
       "                                            Location   \n",
       "0  Surya Bikram Gyawali Marg, Old Baneshwor, Kath...  \\\n",
       "1                      Mitrapark, Chabhil, Kathmandu   \n",
       "2                             Babar Mahal, Kathmandu   \n",
       "3                                 Tinkune, Kathmandu   \n",
       "4                               Kuleshwor, Kathmandu   \n",
       "\n",
       "                      University   \n",
       "0           Tribhuvan University  \\\n",
       "1           Tribhuvan University   \n",
       "2  Westcliff University, CA, USA   \n",
       "3           Tribhuvan University   \n",
       "4    National Examinations Board   \n",
       "\n",
       "                                      Course Offered         Ownership Type   \n",
       "0  Bachelor of Business Administration\\n        (...    private Institution  \\\n",
       "1  BSc Computer Science and Information Technolog...    private Institution   \n",
       "2  Bachelor in Business Administration\\n        (...    private Institution   \n",
       "3  Bachelor of Information Technology\\n        (B...    private Institution   \n",
       "4  Ten Plus Two (+2) Management\\n        (+2 Mang...  community Institution   \n",
       "\n",
       "                          Phone Number                            Email  \n",
       "0               01-4464584, 01-4465660  admissions@thamescollege.edu.np  \n",
       "1   01-4579017, 01-4490670, 01-4488627         enquiry@texasintl.edu.np  \n",
       "2  01-5325909 , 01-5324520 , 015324574   admissions@kingscollege.edu.np  \n",
       "3              01-4112252 , 01-4112403      padmashreecollege@gmail.com  \n",
       "4                            015377202           info@janamaitri.edu.np  "
      ]
     },
     "execution_count": 10,
     "metadata": {},
     "output_type": "execute_result"
    }
   ],
   "source": [
    "data.head()"
   ]
  },
  {
   "cell_type": "markdown",
   "id": "0a669217-851f-434c-b68f-e87fb00885d0",
   "metadata": {},
   "source": [
    "## Replacing null values of Location"
   ]
  },
  {
   "cell_type": "code",
   "execution_count": 11,
   "id": "48797234-c8db-42be-b6e1-690fa53f1ec0",
   "metadata": {},
   "outputs": [
    {
     "data": {
      "text/plain": [
       "2"
      ]
     },
     "execution_count": 11,
     "metadata": {},
     "output_type": "execute_result"
    }
   ],
   "source": [
    "data['Location'].isnull().sum()"
   ]
  },
  {
   "cell_type": "code",
   "execution_count": 12,
   "id": "981bf3a5-4620-4429-99f0-53b5ed5373c3",
   "metadata": {},
   "outputs": [],
   "source": [
    "# filling a null values using fillna() \n",
    "data[\"Location\"].fillna(\"No Location\", inplace = True) "
   ]
  },
  {
   "cell_type": "code",
   "execution_count": 13,
   "id": "39a02a53-0c59-4a03-b684-eeebe105e24b",
   "metadata": {},
   "outputs": [
    {
     "data": {
      "text/plain": [
       "0"
      ]
     },
     "execution_count": 13,
     "metadata": {},
     "output_type": "execute_result"
    }
   ],
   "source": [
    "data['Location'].isnull().sum()"
   ]
  },
  {
   "cell_type": "markdown",
   "id": "3fd0ac3c-e121-4d22-a877-4840c83e520d",
   "metadata": {},
   "source": [
    "## Replacing null values of University"
   ]
  },
  {
   "cell_type": "code",
   "execution_count": 14,
   "id": "86b45b84-a1f6-4248-b8d4-dfb7c636be50",
   "metadata": {},
   "outputs": [
    {
     "data": {
      "text/plain": [
       "20"
      ]
     },
     "execution_count": 14,
     "metadata": {},
     "output_type": "execute_result"
    }
   ],
   "source": [
    "# Filling University null values\n",
    "data['University'].isnull().sum()"
   ]
  },
  {
   "cell_type": "code",
   "execution_count": 15,
   "id": "2ddc46d1-9b13-4907-bc14-d41e77ff4767",
   "metadata": {},
   "outputs": [],
   "source": [
    "data['University'].fillna(\"Unknown University\", inplace= True)"
   ]
  },
  {
   "cell_type": "code",
   "execution_count": 16,
   "id": "ef772a29-0c4b-43c1-916c-5e3c5c774206",
   "metadata": {},
   "outputs": [
    {
     "data": {
      "text/plain": [
       "0"
      ]
     },
     "execution_count": 16,
     "metadata": {},
     "output_type": "execute_result"
    }
   ],
   "source": [
    "data['University'].isnull().sum()"
   ]
  },
  {
   "cell_type": "markdown",
   "id": "8fc76bec-963f-403d-95ad-9f8652bc3238",
   "metadata": {},
   "source": [
    "## Replacing null values of Ownership Type"
   ]
  },
  {
   "cell_type": "code",
   "execution_count": 17,
   "id": "0f8db9a5-0734-4a3b-8848-e1db08761ea5",
   "metadata": {},
   "outputs": [
    {
     "data": {
      "text/plain": [
       "35"
      ]
     },
     "execution_count": 17,
     "metadata": {},
     "output_type": "execute_result"
    }
   ],
   "source": [
    "# Filling University null values\n",
    "data['Ownership Type'].isnull().sum()"
   ]
  },
  {
   "cell_type": "code",
   "execution_count": 18,
   "id": "57677fd1-a67a-402c-acff-052f8f2e6816",
   "metadata": {},
   "outputs": [],
   "source": [
    "data['Ownership Type'].fillna(\"Unknown Ownership\", inplace= True)"
   ]
  },
  {
   "cell_type": "code",
   "execution_count": 19,
   "id": "6fb5e639-7c6c-45a3-a900-d91d1eb276d7",
   "metadata": {},
   "outputs": [
    {
     "data": {
      "text/plain": [
       "0"
      ]
     },
     "execution_count": 19,
     "metadata": {},
     "output_type": "execute_result"
    }
   ],
   "source": [
    "data['Ownership Type'].isnull().sum()"
   ]
  },
  {
   "cell_type": "markdown",
   "id": "7f2369e3-4f7b-435a-8caf-c199894e4848",
   "metadata": {},
   "source": [
    "## Replacing null values of Email"
   ]
  },
  {
   "cell_type": "code",
   "execution_count": 20,
   "id": "30c82546-6380-4afc-bf4e-8b28f3fa5133",
   "metadata": {},
   "outputs": [
    {
     "data": {
      "text/plain": [
       "1001"
      ]
     },
     "execution_count": 20,
     "metadata": {},
     "output_type": "execute_result"
    }
   ],
   "source": [
    "# Filling University null values\n",
    "data['Email'].isnull().sum()"
   ]
  },
  {
   "cell_type": "code",
   "execution_count": 21,
   "id": "3a358db0-f10a-429a-b584-6765b524b785",
   "metadata": {},
   "outputs": [],
   "source": [
    "data['Email'].fillna(\"Unknown Email\", inplace= True)"
   ]
  },
  {
   "cell_type": "code",
   "execution_count": 22,
   "id": "9c01ee6c-f9e5-4ef4-872c-6d96030fd503",
   "metadata": {},
   "outputs": [
    {
     "data": {
      "text/plain": [
       "0"
      ]
     },
     "execution_count": 22,
     "metadata": {},
     "output_type": "execute_result"
    }
   ],
   "source": [
    "data['Email'].isnull().sum()"
   ]
  },
  {
   "cell_type": "markdown",
   "id": "0a3ebaa8-ce63-47e6-83bb-33b1d61d965b",
   "metadata": {},
   "source": [
    "## Replacing null values of Phone Number"
   ]
  },
  {
   "cell_type": "code",
   "execution_count": 23,
   "id": "ed09fc3d-042c-472a-b20c-3f922ca2447f",
   "metadata": {},
   "outputs": [
    {
     "data": {
      "text/plain": [
       "742"
      ]
     },
     "execution_count": 23,
     "metadata": {},
     "output_type": "execute_result"
    }
   ],
   "source": [
    "# Filling University null values\n",
    "data['Phone Number'].isnull().sum()"
   ]
  },
  {
   "cell_type": "code",
   "execution_count": 24,
   "id": "763a1fd2-51f8-4758-bc06-bb1849326cba",
   "metadata": {},
   "outputs": [],
   "source": [
    "data['Phone Number'].fillna(\"Unknown Phone Number\", inplace= True)"
   ]
  },
  {
   "cell_type": "code",
   "execution_count": 25,
   "id": "69b2d872-7f54-4dfd-a2f2-a3a03da0ffa9",
   "metadata": {},
   "outputs": [
    {
     "data": {
      "text/plain": [
       "0"
      ]
     },
     "execution_count": 25,
     "metadata": {},
     "output_type": "execute_result"
    }
   ],
   "source": [
    "data['Phone Number'].isnull().sum()"
   ]
  },
  {
   "cell_type": "markdown",
   "id": "066748c2-c608-40f6-ae67-67b58e5c2616",
   "metadata": {},
   "source": [
    "## Checking again for null values"
   ]
  },
  {
   "cell_type": "code",
   "execution_count": 26,
   "id": "f7b30887-24f2-4565-a146-0fb2ed914e68",
   "metadata": {},
   "outputs": [
    {
     "data": {
      "text/plain": [
       "0"
      ]
     },
     "execution_count": 26,
     "metadata": {},
     "output_type": "execute_result"
    }
   ],
   "source": [
    "data.isnull().sum().sum()"
   ]
  },
  {
   "cell_type": "code",
   "execution_count": 27,
   "id": "37493b67-6ba5-4735-9351-85f9a2e7d442",
   "metadata": {},
   "outputs": [
    {
     "data": {
      "text/html": [
       "<div>\n",
       "<style scoped>\n",
       "    .dataframe tbody tr th:only-of-type {\n",
       "        vertical-align: middle;\n",
       "    }\n",
       "\n",
       "    .dataframe tbody tr th {\n",
       "        vertical-align: top;\n",
       "    }\n",
       "\n",
       "    .dataframe thead th {\n",
       "        text-align: right;\n",
       "    }\n",
       "</style>\n",
       "<table border=\"1\" class=\"dataframe\">\n",
       "  <thead>\n",
       "    <tr style=\"text-align: right;\">\n",
       "      <th></th>\n",
       "      <th>College</th>\n",
       "      <th>University</th>\n",
       "    </tr>\n",
       "  </thead>\n",
       "  <tbody>\n",
       "    <tr>\n",
       "      <th>0</th>\n",
       "      <td>Thames International College</td>\n",
       "      <td>Tribhuvan University</td>\n",
       "    </tr>\n",
       "    <tr>\n",
       "      <th>1</th>\n",
       "      <td>Texas International College</td>\n",
       "      <td>Tribhuvan University</td>\n",
       "    </tr>\n",
       "    <tr>\n",
       "      <th>2</th>\n",
       "      <td>King's College</td>\n",
       "      <td>Westcliff University, CA, USA</td>\n",
       "    </tr>\n",
       "    <tr>\n",
       "      <th>3</th>\n",
       "      <td>Padmashree College</td>\n",
       "      <td>Tribhuvan University</td>\n",
       "    </tr>\n",
       "    <tr>\n",
       "      <th>4</th>\n",
       "      <td>Janamaitri Multiple Campus</td>\n",
       "      <td>National Examinations Board</td>\n",
       "    </tr>\n",
       "    <tr>\n",
       "      <th>...</th>\n",
       "      <td>...</td>\n",
       "      <td>...</td>\n",
       "    </tr>\n",
       "    <tr>\n",
       "      <th>1372</th>\n",
       "      <td>Hillside College of Engineering</td>\n",
       "      <td>Purbanchal University</td>\n",
       "    </tr>\n",
       "    <tr>\n",
       "      <th>1373</th>\n",
       "      <td>National College of Engineering</td>\n",
       "      <td>Tribhuvan University</td>\n",
       "    </tr>\n",
       "    <tr>\n",
       "      <th>1374</th>\n",
       "      <td>School of Business | Pokhara University</td>\n",
       "      <td>Pokhara University</td>\n",
       "    </tr>\n",
       "    <tr>\n",
       "      <th>1375</th>\n",
       "      <td>Unique College of Medical Science</td>\n",
       "      <td>Council for Technical Education and Vocational...</td>\n",
       "    </tr>\n",
       "    <tr>\n",
       "      <th>1376</th>\n",
       "      <td>College of Applied Business</td>\n",
       "      <td>Tribhuvan University</td>\n",
       "    </tr>\n",
       "  </tbody>\n",
       "</table>\n",
       "<p>1377 rows × 2 columns</p>\n",
       "</div>"
      ],
      "text/plain": [
       "                                      College   \n",
       "0                Thames International College  \\\n",
       "1                 Texas International College   \n",
       "2                              King's College   \n",
       "3                          Padmashree College   \n",
       "4                  Janamaitri Multiple Campus   \n",
       "...                                       ...   \n",
       "1372          Hillside College of Engineering   \n",
       "1373          National College of Engineering   \n",
       "1374  School of Business | Pokhara University   \n",
       "1375        Unique College of Medical Science   \n",
       "1376              College of Applied Business   \n",
       "\n",
       "                                             University  \n",
       "0                                  Tribhuvan University  \n",
       "1                                  Tribhuvan University  \n",
       "2                         Westcliff University, CA, USA  \n",
       "3                                  Tribhuvan University  \n",
       "4                           National Examinations Board  \n",
       "...                                                 ...  \n",
       "1372                              Purbanchal University  \n",
       "1373                               Tribhuvan University  \n",
       "1374                                 Pokhara University  \n",
       "1375  Council for Technical Education and Vocational...  \n",
       "1376                               Tribhuvan University  \n",
       "\n",
       "[1377 rows x 2 columns]"
      ]
     },
     "execution_count": 27,
     "metadata": {},
     "output_type": "execute_result"
    }
   ],
   "source": [
    "#Displaying  College and University\n",
    "data[['College','University']]"
   ]
  },
  {
   "cell_type": "code",
   "execution_count": 28,
   "id": "ad755384-bfdb-4df2-a3f2-cd247f475dc9",
   "metadata": {},
   "outputs": [
    {
     "data": {
      "text/plain": [
       "University\n",
       "Tribhuvan University                                       847\n",
       "National Examinations Board                                180\n",
       "Purbanchal University                                       80\n",
       "Pokhara University                                          67\n",
       "Council for Technical Education and Vocational Training     24\n",
       "Kathmandu University                                        22\n",
       "Nepal Sanskrit University                                   21\n",
       "Unknown University                                          20\n",
       "Agriculture and Forestry University                         20\n",
       "Far-Western University                                      13\n",
       "Mid-West University                                         12\n",
       "Lumbini Buddhist University                                 10\n",
       "Lincoln University College                                  10\n",
       "ACCA                                                         5\n",
       "Karnali Academy of Health Sciences                           5\n",
       "Manmohan Technical University                                3\n",
       "Asia Pacific University of Technology & Innovation           3\n",
       "University of Sunderland                                     3\n",
       "Patan Academy of Health Sciences                             3\n",
       "Indira Gandhi National Open University                       2\n",
       "London Metropolitan University                               2\n",
       "University of Wolverhampton                                  2\n",
       "The Institute of Chartered Accountants of Nepal              2\n",
       "Westcliff University, CA, USA                                2\n",
       "​Infrastructure University Kuala Lumpur                      1\n",
       "Cambridge GCE A Levels                                       1\n",
       "Coventry University, UK                                      1\n",
       "Nilai University, Malaysia                                   1\n",
       "International Teaching University of Georgia                 1\n",
       "Salzburg University of Applied Sciences                      1\n",
       "Delta International University                               1\n",
       "SIAM University, Thailand                                    1\n",
       "Asia e University                                            1\n",
       "UCSI University                                              1\n",
       "HELP University                                              1\n",
       "American Hospitality Academy, USA                            1\n",
       "Limkokwing University, Malaysia                              1\n",
       "Taylor's University, Malaysia                                1\n",
       "University of Bedfordshire                                   1\n",
       "EHE European University, EurAka, Switzerland                 1\n",
       "BPKIHS                                                       1\n",
       "​Oxford Brookes University                                   1\n",
       "Ecole hôtelière de Lausanne                                  1\n",
       "Name: count, dtype: int64"
      ]
     },
     "execution_count": 28,
     "metadata": {},
     "output_type": "execute_result"
    }
   ],
   "source": [
    "# Displaying university with counts\n",
    "data['University'].value_counts()"
   ]
  },
  {
   "cell_type": "code",
   "execution_count": 29,
   "id": "88f6340f-c813-4cea-95e6-61ea70e9b498",
   "metadata": {},
   "outputs": [
    {
     "data": {
      "text/plain": [
       "Ownership Type\n",
       "private Institution        557\n",
       "community Institution      460\n",
       "constituent Institution    173\n",
       "public Institution         152\n",
       "Unknown Ownership           35\n",
       "Name: count, dtype: int64"
      ]
     },
     "execution_count": 29,
     "metadata": {},
     "output_type": "execute_result"
    }
   ],
   "source": [
    "# Displaying ownership with counts\n",
    "data['Ownership Type'].value_counts()"
   ]
  },
  {
   "cell_type": "code",
   "execution_count": 33,
   "id": "6abc1a6e-e838-42bb-b71e-2742a1c08cf8",
   "metadata": {},
   "outputs": [
    {
     "data": {
      "text/html": [
       "<div>\n",
       "<style scoped>\n",
       "    .dataframe tbody tr th:only-of-type {\n",
       "        vertical-align: middle;\n",
       "    }\n",
       "\n",
       "    .dataframe tbody tr th {\n",
       "        vertical-align: top;\n",
       "    }\n",
       "\n",
       "    .dataframe thead th {\n",
       "        text-align: right;\n",
       "    }\n",
       "</style>\n",
       "<table border=\"1\" class=\"dataframe\">\n",
       "  <thead>\n",
       "    <tr style=\"text-align: right;\">\n",
       "      <th></th>\n",
       "      <th>0</th>\n",
       "      <th>1</th>\n",
       "      <th>2</th>\n",
       "      <th>3</th>\n",
       "      <th>4</th>\n",
       "      <th>5</th>\n",
       "    </tr>\n",
       "  </thead>\n",
       "  <tbody>\n",
       "    <tr>\n",
       "      <th>0</th>\n",
       "      <td>Surya Bikram Gyawali Marg</td>\n",
       "      <td>Old Baneshwor</td>\n",
       "      <td>Kathmandu</td>\n",
       "      <td>None</td>\n",
       "      <td>None</td>\n",
       "      <td>None</td>\n",
       "    </tr>\n",
       "    <tr>\n",
       "      <th>1</th>\n",
       "      <td>Mitrapark</td>\n",
       "      <td>Chabhil</td>\n",
       "      <td>Kathmandu</td>\n",
       "      <td>None</td>\n",
       "      <td>None</td>\n",
       "      <td>None</td>\n",
       "    </tr>\n",
       "    <tr>\n",
       "      <th>2</th>\n",
       "      <td>Babar Mahal</td>\n",
       "      <td>Kathmandu</td>\n",
       "      <td>None</td>\n",
       "      <td>None</td>\n",
       "      <td>None</td>\n",
       "      <td>None</td>\n",
       "    </tr>\n",
       "    <tr>\n",
       "      <th>3</th>\n",
       "      <td>Tinkune</td>\n",
       "      <td>Kathmandu</td>\n",
       "      <td>None</td>\n",
       "      <td>None</td>\n",
       "      <td>None</td>\n",
       "      <td>None</td>\n",
       "    </tr>\n",
       "    <tr>\n",
       "      <th>4</th>\n",
       "      <td>Kuleshwor</td>\n",
       "      <td>Kathmandu</td>\n",
       "      <td>None</td>\n",
       "      <td>None</td>\n",
       "      <td>None</td>\n",
       "      <td>None</td>\n",
       "    </tr>\n",
       "    <tr>\n",
       "      <th>...</th>\n",
       "      <td>...</td>\n",
       "      <td>...</td>\n",
       "      <td>...</td>\n",
       "      <td>...</td>\n",
       "      <td>...</td>\n",
       "      <td>...</td>\n",
       "    </tr>\n",
       "    <tr>\n",
       "      <th>1372</th>\n",
       "      <td>Balkumari</td>\n",
       "      <td>Koteshwor</td>\n",
       "      <td>Lalitpur</td>\n",
       "      <td>None</td>\n",
       "      <td>None</td>\n",
       "      <td>None</td>\n",
       "    </tr>\n",
       "    <tr>\n",
       "      <th>1373</th>\n",
       "      <td>Talchikhel</td>\n",
       "      <td>Satdobato</td>\n",
       "      <td>Lalitpur</td>\n",
       "      <td>None</td>\n",
       "      <td>None</td>\n",
       "      <td>None</td>\n",
       "    </tr>\n",
       "    <tr>\n",
       "      <th>1374</th>\n",
       "      <td>Dhungepatan</td>\n",
       "      <td>Pokhara</td>\n",
       "      <td>Pokhara Lekhnath</td>\n",
       "      <td>Kaski</td>\n",
       "      <td>None</td>\n",
       "      <td>None</td>\n",
       "    </tr>\n",
       "    <tr>\n",
       "      <th>1375</th>\n",
       "      <td>Rajbiraj-7</td>\n",
       "      <td>Rajbiraj</td>\n",
       "      <td>Saptari</td>\n",
       "      <td>None</td>\n",
       "      <td>None</td>\n",
       "      <td>None</td>\n",
       "    </tr>\n",
       "    <tr>\n",
       "      <th>1376</th>\n",
       "      <td>Gangahity</td>\n",
       "      <td>Dhobikhola</td>\n",
       "      <td>Kathmandu</td>\n",
       "      <td>None</td>\n",
       "      <td>None</td>\n",
       "      <td>None</td>\n",
       "    </tr>\n",
       "  </tbody>\n",
       "</table>\n",
       "<p>1377 rows × 6 columns</p>\n",
       "</div>"
      ],
      "text/plain": [
       "                              0              1                 2      3     4   \n",
       "0     Surya Bikram Gyawali Marg  Old Baneshwor         Kathmandu   None  None  \\\n",
       "1                     Mitrapark        Chabhil         Kathmandu   None  None   \n",
       "2                   Babar Mahal      Kathmandu              None   None  None   \n",
       "3                       Tinkune      Kathmandu              None   None  None   \n",
       "4                     Kuleshwor      Kathmandu              None   None  None   \n",
       "...                         ...            ...               ...    ...   ...   \n",
       "1372                  Balkumari      Koteshwor          Lalitpur   None  None   \n",
       "1373                 Talchikhel      Satdobato          Lalitpur   None  None   \n",
       "1374                Dhungepatan        Pokhara  Pokhara Lekhnath  Kaski  None   \n",
       "1375                 Rajbiraj-7       Rajbiraj           Saptari   None  None   \n",
       "1376                  Gangahity     Dhobikhola         Kathmandu   None  None   \n",
       "\n",
       "         5  \n",
       "0     None  \n",
       "1     None  \n",
       "2     None  \n",
       "3     None  \n",
       "4     None  \n",
       "...    ...  \n",
       "1372  None  \n",
       "1373  None  \n",
       "1374  None  \n",
       "1375  None  \n",
       "1376  None  \n",
       "\n",
       "[1377 rows x 6 columns]"
      ]
     },
     "execution_count": 33,
     "metadata": {},
     "output_type": "execute_result"
    }
   ],
   "source": [
    "data['Location'].str.split(', ', expand=True)"
   ]
  },
  {
   "cell_type": "code",
   "execution_count": null,
   "id": "9aa487a8-89ca-4b5c-b745-38b01998be05",
   "metadata": {},
   "outputs": [],
   "source": []
  },
  {
   "cell_type": "code",
   "execution_count": 34,
   "id": "fb4c4e0b-eda6-4678-a723-e9f695a585f8",
   "metadata": {},
   "outputs": [
    {
     "data": {
      "text/html": [
       "<div>\n",
       "<style scoped>\n",
       "    .dataframe tbody tr th:only-of-type {\n",
       "        vertical-align: middle;\n",
       "    }\n",
       "\n",
       "    .dataframe tbody tr th {\n",
       "        vertical-align: top;\n",
       "    }\n",
       "\n",
       "    .dataframe thead th {\n",
       "        text-align: right;\n",
       "    }\n",
       "</style>\n",
       "<table border=\"1\" class=\"dataframe\">\n",
       "  <thead>\n",
       "    <tr style=\"text-align: right;\">\n",
       "      <th></th>\n",
       "      <th>University_label</th>\n",
       "      <th>count</th>\n",
       "    </tr>\n",
       "  </thead>\n",
       "  <tbody>\n",
       "    <tr>\n",
       "      <th>0</th>\n",
       "      <td>ACCA</td>\n",
       "      <td>5</td>\n",
       "    </tr>\n",
       "    <tr>\n",
       "      <th>1</th>\n",
       "      <td>Agriculture and Forestry University</td>\n",
       "      <td>20</td>\n",
       "    </tr>\n",
       "    <tr>\n",
       "      <th>2</th>\n",
       "      <td>American Hospitality Academy, USA</td>\n",
       "      <td>1</td>\n",
       "    </tr>\n",
       "    <tr>\n",
       "      <th>3</th>\n",
       "      <td>Asia Pacific University of Technology &amp; Innova...</td>\n",
       "      <td>3</td>\n",
       "    </tr>\n",
       "    <tr>\n",
       "      <th>4</th>\n",
       "      <td>Asia e University</td>\n",
       "      <td>1</td>\n",
       "    </tr>\n",
       "    <tr>\n",
       "      <th>5</th>\n",
       "      <td>BPKIHS</td>\n",
       "      <td>1</td>\n",
       "    </tr>\n",
       "    <tr>\n",
       "      <th>6</th>\n",
       "      <td>Cambridge GCE A Levels</td>\n",
       "      <td>1</td>\n",
       "    </tr>\n",
       "    <tr>\n",
       "      <th>7</th>\n",
       "      <td>Council for Technical Education and Vocational...</td>\n",
       "      <td>24</td>\n",
       "    </tr>\n",
       "    <tr>\n",
       "      <th>8</th>\n",
       "      <td>Coventry University, UK</td>\n",
       "      <td>1</td>\n",
       "    </tr>\n",
       "    <tr>\n",
       "      <th>9</th>\n",
       "      <td>Delta International University</td>\n",
       "      <td>1</td>\n",
       "    </tr>\n",
       "    <tr>\n",
       "      <th>10</th>\n",
       "      <td>EHE European University, EurAka, Switzerland</td>\n",
       "      <td>1</td>\n",
       "    </tr>\n",
       "    <tr>\n",
       "      <th>11</th>\n",
       "      <td>Ecole hôtelière de Lausanne</td>\n",
       "      <td>1</td>\n",
       "    </tr>\n",
       "    <tr>\n",
       "      <th>12</th>\n",
       "      <td>Far-Western University</td>\n",
       "      <td>13</td>\n",
       "    </tr>\n",
       "    <tr>\n",
       "      <th>13</th>\n",
       "      <td>HELP University</td>\n",
       "      <td>1</td>\n",
       "    </tr>\n",
       "    <tr>\n",
       "      <th>14</th>\n",
       "      <td>Indira Gandhi National Open University</td>\n",
       "      <td>2</td>\n",
       "    </tr>\n",
       "    <tr>\n",
       "      <th>15</th>\n",
       "      <td>International Teaching University of Georgia</td>\n",
       "      <td>1</td>\n",
       "    </tr>\n",
       "    <tr>\n",
       "      <th>16</th>\n",
       "      <td>Karnali Academy of Health Sciences</td>\n",
       "      <td>5</td>\n",
       "    </tr>\n",
       "    <tr>\n",
       "      <th>17</th>\n",
       "      <td>Kathmandu University</td>\n",
       "      <td>22</td>\n",
       "    </tr>\n",
       "    <tr>\n",
       "      <th>18</th>\n",
       "      <td>Limkokwing University, Malaysia</td>\n",
       "      <td>1</td>\n",
       "    </tr>\n",
       "    <tr>\n",
       "      <th>19</th>\n",
       "      <td>Lincoln University College</td>\n",
       "      <td>10</td>\n",
       "    </tr>\n",
       "    <tr>\n",
       "      <th>20</th>\n",
       "      <td>London Metropolitan University</td>\n",
       "      <td>2</td>\n",
       "    </tr>\n",
       "    <tr>\n",
       "      <th>21</th>\n",
       "      <td>Lumbini Buddhist University</td>\n",
       "      <td>10</td>\n",
       "    </tr>\n",
       "    <tr>\n",
       "      <th>22</th>\n",
       "      <td>Manmohan Technical University</td>\n",
       "      <td>3</td>\n",
       "    </tr>\n",
       "    <tr>\n",
       "      <th>23</th>\n",
       "      <td>Mid-West University</td>\n",
       "      <td>12</td>\n",
       "    </tr>\n",
       "    <tr>\n",
       "      <th>24</th>\n",
       "      <td>National Examinations Board</td>\n",
       "      <td>180</td>\n",
       "    </tr>\n",
       "    <tr>\n",
       "      <th>25</th>\n",
       "      <td>Nepal Sanskrit University</td>\n",
       "      <td>21</td>\n",
       "    </tr>\n",
       "    <tr>\n",
       "      <th>26</th>\n",
       "      <td>Nilai University, Malaysia</td>\n",
       "      <td>1</td>\n",
       "    </tr>\n",
       "    <tr>\n",
       "      <th>27</th>\n",
       "      <td>Patan Academy of Health Sciences</td>\n",
       "      <td>3</td>\n",
       "    </tr>\n",
       "    <tr>\n",
       "      <th>28</th>\n",
       "      <td>Pokhara University</td>\n",
       "      <td>67</td>\n",
       "    </tr>\n",
       "    <tr>\n",
       "      <th>29</th>\n",
       "      <td>Purbanchal University</td>\n",
       "      <td>80</td>\n",
       "    </tr>\n",
       "    <tr>\n",
       "      <th>30</th>\n",
       "      <td>SIAM University, Thailand</td>\n",
       "      <td>1</td>\n",
       "    </tr>\n",
       "    <tr>\n",
       "      <th>31</th>\n",
       "      <td>Salzburg University of Applied Sciences</td>\n",
       "      <td>1</td>\n",
       "    </tr>\n",
       "    <tr>\n",
       "      <th>32</th>\n",
       "      <td>Taylor's University, Malaysia</td>\n",
       "      <td>1</td>\n",
       "    </tr>\n",
       "    <tr>\n",
       "      <th>33</th>\n",
       "      <td>The Institute of Chartered Accountants of Nepal</td>\n",
       "      <td>2</td>\n",
       "    </tr>\n",
       "    <tr>\n",
       "      <th>34</th>\n",
       "      <td>Tribhuvan University</td>\n",
       "      <td>847</td>\n",
       "    </tr>\n",
       "    <tr>\n",
       "      <th>35</th>\n",
       "      <td>UCSI University</td>\n",
       "      <td>1</td>\n",
       "    </tr>\n",
       "    <tr>\n",
       "      <th>36</th>\n",
       "      <td>University of Bedfordshire</td>\n",
       "      <td>1</td>\n",
       "    </tr>\n",
       "    <tr>\n",
       "      <th>37</th>\n",
       "      <td>University of Sunderland</td>\n",
       "      <td>3</td>\n",
       "    </tr>\n",
       "    <tr>\n",
       "      <th>38</th>\n",
       "      <td>University of Wolverhampton</td>\n",
       "      <td>2</td>\n",
       "    </tr>\n",
       "    <tr>\n",
       "      <th>39</th>\n",
       "      <td>Unknown University</td>\n",
       "      <td>20</td>\n",
       "    </tr>\n",
       "    <tr>\n",
       "      <th>40</th>\n",
       "      <td>Westcliff University, CA, USA</td>\n",
       "      <td>2</td>\n",
       "    </tr>\n",
       "    <tr>\n",
       "      <th>41</th>\n",
       "      <td>​Infrastructure University Kuala Lumpur</td>\n",
       "      <td>1</td>\n",
       "    </tr>\n",
       "    <tr>\n",
       "      <th>42</th>\n",
       "      <td>​Oxford Brookes University</td>\n",
       "      <td>1</td>\n",
       "    </tr>\n",
       "  </tbody>\n",
       "</table>\n",
       "</div>"
      ],
      "text/plain": [
       "                                     University_label  count\n",
       "0                                                ACCA      5\n",
       "1                 Agriculture and Forestry University     20\n",
       "2                   American Hospitality Academy, USA      1\n",
       "3   Asia Pacific University of Technology & Innova...      3\n",
       "4                                   Asia e University      1\n",
       "5                                              BPKIHS      1\n",
       "6                              Cambridge GCE A Levels      1\n",
       "7   Council for Technical Education and Vocational...     24\n",
       "8                             Coventry University, UK      1\n",
       "9                      Delta International University      1\n",
       "10       EHE European University, EurAka, Switzerland      1\n",
       "11                        Ecole hôtelière de Lausanne      1\n",
       "12                             Far-Western University     13\n",
       "13                                    HELP University      1\n",
       "14             Indira Gandhi National Open University      2\n",
       "15       International Teaching University of Georgia      1\n",
       "16                 Karnali Academy of Health Sciences      5\n",
       "17                               Kathmandu University     22\n",
       "18                    Limkokwing University, Malaysia      1\n",
       "19                         Lincoln University College     10\n",
       "20                     London Metropolitan University      2\n",
       "21                        Lumbini Buddhist University     10\n",
       "22                      Manmohan Technical University      3\n",
       "23                                Mid-West University     12\n",
       "24                        National Examinations Board    180\n",
       "25                          Nepal Sanskrit University     21\n",
       "26                         Nilai University, Malaysia      1\n",
       "27                   Patan Academy of Health Sciences      3\n",
       "28                                 Pokhara University     67\n",
       "29                              Purbanchal University     80\n",
       "30                          SIAM University, Thailand      1\n",
       "31            Salzburg University of Applied Sciences      1\n",
       "32                      Taylor's University, Malaysia      1\n",
       "33    The Institute of Chartered Accountants of Nepal      2\n",
       "34                               Tribhuvan University    847\n",
       "35                                    UCSI University      1\n",
       "36                         University of Bedfordshire      1\n",
       "37                           University of Sunderland      3\n",
       "38                        University of Wolverhampton      2\n",
       "39                                 Unknown University     20\n",
       "40                      Westcliff University, CA, USA      2\n",
       "41            ​Infrastructure University Kuala Lumpur      1\n",
       "42                         ​Oxford Brookes University      1"
      ]
     },
     "execution_count": 34,
     "metadata": {},
     "output_type": "execute_result"
    }
   ],
   "source": [
    "newdata = data.groupby('University').size().rename_axis('University_label').reset_index(name='count')\n",
    "newdata"
   ]
  },
  {
   "cell_type": "code",
   "execution_count": 35,
   "id": "cbe684e3-6712-46fe-89f2-b113c84a201d",
   "metadata": {},
   "outputs": [],
   "source": [
    "# make 2 variable for labels and values \n",
    "labels = newdata.University_label\n",
    "values = newdata.count"
   ]
  },
  {
   "cell_type": "code",
   "execution_count": 36,
   "id": "685bc27f-2a41-461c-a81b-6a6930d2db4b",
   "metadata": {},
   "outputs": [
    {
     "data": {
      "image/png": "[encoded data removed]",
      "text/plain": [
       "<Figure size 1600x1440 with 1 Axes>"
      ]
     },
     "metadata": {},
     "output_type": "display_data"
    }
   ],
   "source": [
    "from matplotlib.pyplot import figure\n",
    "figure(num=None, figsize=(20,18), dpi=80, facecolor='w', edgecolor='r')\n",
    "sns.barplot(data=newdata, x=\"count\", y=\"University_label\")\n",
    "plt.show()"
   ]
  },
  {
   "cell_type": "code",
   "execution_count": 37,
   "id": "264e355a-9944-43a9-97e4-8e2680f73a7c",
   "metadata": {},
   "outputs": [
    {
     "data": {
      "text/plain": [
       "Ownership Type\n",
       "private Institution        557\n",
       "community Institution      460\n",
       "constituent Institution    173\n",
       "public Institution         152\n",
       "Unknown Ownership           35\n",
       "Name: count, dtype: int64"
      ]
     },
     "execution_count": 37,
     "metadata": {},
     "output_type": "execute_result"
    }
   ],
   "source": [
    "c=data['Ownership Type'].value_counts()\n",
    "c"
   ]
  },
  {
   "cell_type": "code",
   "execution_count": 38,
   "id": "22da0004-d48a-4adc-9827-33977bbad9d9",
   "metadata": {},
   "outputs": [
    {
     "data": {
      "text/plain": [
       "Index(['private Institution', 'community Institution',\n",
       "       'constituent Institution', 'public Institution', 'Unknown Ownership'],\n",
       "      dtype='object', name='Ownership Type')"
      ]
     },
     "execution_count": 38,
     "metadata": {},
     "output_type": "execute_result"
    }
   ],
   "source": [
    "c.index"
   ]
  },
  {
   "cell_type": "code",
   "execution_count": 39,
   "id": "eb969a55-fe98-4fba-86f8-29f440a8d12a",
   "metadata": {},
   "outputs": [
    {
     "data": {
      "image/png": "[encoded data removed]",
      "text/plain": [
       "<Figure size 800x500 with 1 Axes>"
      ]
     },
     "metadata": {},
     "output_type": "display_data"
    }
   ],
   "source": [
    "# Simple Pie Chart\n",
    "plt.figure(figsize=(8,5))\n",
    "# Create a pieplot\n",
    "plt.pie(c, labels= c.index, autopct='%1.1f%%')\n",
    "plt.title(\"Pie Chart\", size=20)\n",
    "plt.show()"
   ]
  },
  {
   "cell_type": "markdown",
   "id": "cab5fda6-e372-4e52-a7bf-1fad28b72f9c",
   "metadata": {},
   "source": [
    "## Extracting district name from the address"
   ]
  },
  {
   "cell_type": "code",
   "execution_count": 87,
   "id": "82c10240-5f70-4ba5-96fe-1d5f292e6ffc",
   "metadata": {},
   "outputs": [
    {
     "data": {
      "text/plain": [
       "0       [Surya Bikram Gyawali Marg, Old Baneshwor, Kat...\n",
       "1                         [Mitrapark, Chabhil, Kathmandu]\n",
       "2                                [Babar Mahal, Kathmandu]\n",
       "3                                    [Tinkune, Kathmandu]\n",
       "4                                  [Kuleshwor, Kathmandu]\n",
       "                              ...                        \n",
       "1372                     [Balkumari, Koteshwor, Lalitpur]\n",
       "1373                    [Talchikhel, Satdobato, Lalitpur]\n",
       "1374      [Dhungepatan, Pokhara, Pokhara Lekhnath, Kaski]\n",
       "1375                      [Rajbiraj-7, Rajbiraj, Saptari]\n",
       "1376                   [Gangahity, Dhobikhola, Kathmandu]\n",
       "Name: newLocation, Length: 1377, dtype: object"
      ]
     },
     "execution_count": 87,
     "metadata": {},
     "output_type": "execute_result"
    }
   ],
   "source": [
    "data['newLocation']=data['Location'].str.split(', ' )\n",
    "type(data['newLocation'][0])\n",
    "data['newLocation']"
   ]
  },
  {
   "cell_type": "code",
   "execution_count": 100,
   "id": "e3353899-1b01-4b3e-986a-dd24a1ac4b55",
   "metadata": {},
   "outputs": [],
   "source": [
    "# Function to extract district from the list\n",
    "def extract(obj):\n",
    "    district = obj[-1]\n",
    "    \n",
    "    return district\n",
    "       "
   ]
  },
  {
   "cell_type": "code",
   "execution_count": 108,
   "id": "9b72cdf5-d846-4c2d-8d61-69a4970b3f3c",
   "metadata": {},
   "outputs": [],
   "source": [
    "data['district'] = data['newLocation'].apply(extract)"
   ]
  },
  {
   "cell_type": "code",
   "execution_count": 109,
   "id": "642f5c43-6a2e-402b-9722-fa2b2e4d4fba",
   "metadata": {},
   "outputs": [
    {
     "data": {
      "text/plain": [
       "district\n",
       "Kathmandu    358\n",
       "Lalitpur      98\n",
       "Morang        59\n",
       "Rupandehi     54\n",
       "Chitwan       47\n",
       "Name: count, dtype: int64"
      ]
     },
     "execution_count": 109,
     "metadata": {},
     "output_type": "execute_result"
    }
   ],
   "source": [
    "# Top 5 district with college name\n",
    "data['district'].value_counts().head()"
   ]
  },
  {
   "cell_type": "markdown",
   "id": "c0248810-4e2f-472d-94ce-ccb5da3a78ea",
   "metadata": {},
   "source": [
    "## Kathmandu has highest number of colleges and lalitpur has second highest number of colleges located."
   ]
  },
  {
   "cell_type": "code",
   "execution_count": null,
   "id": "156ed5c5-2cf7-4764-bc7e-eeae93b40186",
   "metadata": {},
   "outputs": [],
   "source": []
  },
  {
   "cell_type": "code",
   "execution_count": null,
   "id": "eb74a04a-cfb4-4861-a0cf-36af8d7f7c49",
   "metadata": {},
   "outputs": [],
   "source": []
  }
 ],
 "metadata": {
  "kernelspec": {
   "display_name": "Python 3 (ipykernel)",
   "language": "python",
   "name": "python3"
  },
  "language_info": {
   "codemirror_mode": {
    "name": "ipython",
    "version": 3
   },
   "file_extension": ".py",
   "mimetype": "text/x-python",
   "name": "python",
   "nbconvert_exporter": "python",
   "pygments_lexer": "ipython3",
   "version": "3.9.13"
  }
 },
 "nbformat": 4,
 "nbformat_minor": 5
}
